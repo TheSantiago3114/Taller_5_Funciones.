{
  "nbformat": 4,
  "nbformat_minor": 0,
  "metadata": {
    "colab": {
      "provenance": [],
      "authorship_tag": "ABX9TyPLRDc6WIRdKh2W93qaD13k",
      "include_colab_link": true
    },
    "kernelspec": {
      "name": "python3",
      "display_name": "Python 3"
    },
    "language_info": {
      "name": "python"
    }
  },
  "cells": [
    {
      "cell_type": "markdown",
      "metadata": {
        "id": "view-in-github",
        "colab_type": "text"
      },
      "source": [
        "<a href=\"https://colab.research.google.com/github/TheSantiago3114/Taller_5_Funciones./blob/main/taller%205.ipynb\" target=\"_parent\"><img src=\"https://colab.research.google.com/assets/colab-badge.svg\" alt=\"Open In Colab\"/></a>"
      ]
    },
    {
      "cell_type": "markdown",
      "source": [
        "# Fundamentos de Programación para Ingeniería Mecánica\n",
        "## UPB Montería - 202310\n",
        "### Taller 5: Funciones y Estructuras de Datos\n",
        "- Docente: Miguel Ortiz (miguel.ortizp@upb.edu.co)"
      ],
      "metadata": {
        "id": "PXiL2kGJN64b"
      }
    },
    {
      "cell_type": "markdown",
      "source": [
        "Datos del Estudiante:\n",
        "- Nombre: Santiago A Molina R\n",
        "- ID: 00051916\n",
        "- email:santiago.molinar@upb.edu.co\n"
      ],
      "metadata": {
        "id": "m5bcwz0OODlv"
      }
    },
    {
      "cell_type": "markdown",
      "source": [
        "> Resuelva los siguientes ejercicios utilizando **Funciones, Listas y Diccionarios**.\n"
      ],
      "metadata": {
        "id": "NEvUey6-OLwC"
      }
    },
    {
      "cell_type": "markdown",
      "source": [
        "### Problema 1: Discurso Político (150xp)\n",
        "\n",
        "Diseñe el algoritmo y escriba un código en lenguaje de programación Python para generar discursos políticos aleatorios, teniendo en cuenta la siguiente imagen:\n",
        "\n",
        "![componentes de un discurso](discurso.png)\n",
        "\n",
        "Para ello, debe solicitar al usuario el nombre del candidato, un presupuesto general, y tres (3) porcentajes que representen los dineros que destinará a diferentes sectores seleccionados de forma aleatoria (lista de beneficio populista).\n",
        "\n",
        "Crea una función sin parámetros que retorne un string con el mensaje político. Dentro de la función deben aparecer los inputs para solicitar información al usuario. Guarda el mensaje creado por la función en una variable llamada `mensaje_politico` e imprime su valor en consola. \n",
        "\n",
        "**Ejemplo:**\n",
        "\n",
        "```\n",
        ">>> Entradas:\n",
        "Ingrese nombre del candidato: Chocolove McDonell\n",
        "Ingrese presupuesto (en millones de pesos): 1250\n",
        "Ingrese Porcentaje 1: 25\n",
        "Ingrese Porcentaje 2: 30\n",
        "Ingrese Porcentaje 3: 45\n",
        ">>> Salidas:\n",
        "Estimados copartidarios. \n",
        "Mi nombre es Chocolove McDonell y hoy vengo a decirles que, con su ayuda combatiré el desplazamiento y promoveré la educación de cada colombiano. Y es por eso que hoy he venido a proponerles invertir $1250.0 millones de pesos de la siguiente manera: \n",
        " - $312.5 millones de pesos en el empleo \n",
        " - $375.0 millones de pesos en la educación \n",
        " - $562.5 millones de pesos en la salud \n",
        "```\n",
        "\n",
        "**Nota:** para seleccionar un elemento aleatorio de una lista puede utilizar la función `choice()` de la librería random:\n",
        "\n",
        "```python\n",
        "import random\n",
        "random.choice([1, 2, 3])\n",
        "```\n",
        "\n",
        "**Recomendación:** cree las variables sin acento (tildes) y en minúsculas. "
      ],
      "metadata": {
        "id": "FtBG_AHfOTWJ"
      }
    },
    {
      "cell_type": "code",
      "execution_count": 12,
      "metadata": {
        "id": "4BcgGxSgN5rp",
        "colab": {
          "base_uri": "https://localhost:8080/",
          "height": 130
        },
        "outputId": "8e1b7701-95e3-45c5-822f-d894f5156c60"
      },
      "outputs": [
        {
          "output_type": "error",
          "ename": "SyntaxError",
          "evalue": "ignored",
          "traceback": [
            "\u001b[0;36m  File \u001b[0;32m\"<ipython-input-12-45a69258b916>\"\u001b[0;36m, line \u001b[0;32m42\u001b[0m\n\u001b[0;31m    print('- $' + str(por_2 + ' millones de pesos para la salud.')\u001b[0m\n\u001b[0m         ^\u001b[0m\n\u001b[0;31mSyntaxError\u001b[0m\u001b[0;31m:\u001b[0m '(' was never closed\n"
          ]
        }
      ],
      "source": [
        "\n",
        "\n",
        "name_candidato = input(\"Ingrese el nombre del candidato: \")\n",
        "presupuesto = float(input(\"Ingrese presupuesto (en millones de pesos): \"))\n",
        "por_1 = float(input(\"Ingrese Porcentaje 1: \")) /100\n",
        "por_2 = float(input(\"Ingrese Porcentaje 2: \")) /100\n",
        "por_3 = float(input(\"Ingrese Porcentaje 3: \")) /100\n",
        "\n",
        "\n",
        "#componentes del discurso\n",
        "titulo = [\"Queridos\", \"Apreciados\", \"Distinguidos\", \"Honorables\", \"Estimados\", \"Respetados\"]\n",
        "publico = [\"Compatriotas\", \"Copartidarios\", \"Amigos\", \"Coterraneos\", \"Conciudadanos\", \"Electores\"]\n",
        "condicion = [\"En mi gobierno\", \"Con su apoyo\", \"Siendo elegido\", \"Con su ayuda\", \"Si me siguen\", \"Durante mi mandato\"]\n",
        "compromiso = [\"Voy a derrotar\", \"Vencere\", \"Eliminare\", \"Acabare\", \"Luchare contra\", \"combatire\"]\n",
        "ilusion = [\"La violencia y\", \"La delincuencia y\", \"La corrupcion y\", \"La inflacion y\", \"La pobreza y\", \"El  desplazamiento y\"]\n",
        "promesa = [\"Trabajare por\", \"Garantizare\", \"Protegere\", \"Velare por\", \"Promevere\", \"Defendere\"]\n",
        "beneficio = [\"La Educacion\", \"El Empleo\", \"La seguridad\", \"La paz\", \"La igualdad\", \"La Salud\"] \n",
        "cantidad_de_votos = [\"Del pais\", \"De la ciudad\", \"De la comunidad\", \"De la poblacion\", \"Para toda la gente\", \"De cada colombiano\"] \n",
        "\n",
        "def valores(presupuesto, porcentaje):\n",
        "    \n",
        "    for por_1, presupuesto in porcentaje, presupuesto:\n",
        "        va_1 = por_1 * presupuesto\n",
        "    for por_2, presupuesto in porcentaje, presupuesto:\n",
        "        va_2 = por_2 * presupuesto\n",
        "    for por_3, presupuesto in porcentaje, presupuesto:\n",
        "        va_3 = por_3 * presupuesto\n",
        "\n",
        "\n",
        "discurso_dict = {1:titulo, 2:publico, 3:condicion, 4:compromiso, 5:ilusion, 6:promesa, 7:beneficio, 8:cantidad_de_votos}\n",
        "\n",
        "mensaje_politico = ''\n",
        "\n",
        "import random\n",
        "lines = 1\n",
        "for i in range(lines):\n",
        "    for values in discurso_dict.values():\n",
        "        mensaje_politico += random.choice(values)\n",
        "\n",
        "print(mensaje_politico)\n",
        "\n",
        "\n",
        "\n",
        "\n",
        "\n",
        "\n",
        "\n",
        "\n",
        "\n",
        "\n"
      ]
    }
  ]
}